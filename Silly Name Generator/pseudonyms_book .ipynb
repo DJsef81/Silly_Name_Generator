{
 "cells": [
  {
   "cell_type": "code",
   "execution_count": null,
   "id": "spanish-greece",
   "metadata": {},
   "outputs": [],
   "source": [
    "\"\"\"Generate funny names by randomly combining names from 2 separate lists.\"\"\"\n",
    "import sys\n",
    "import random\n",
    "\n",
    "def main():\n",
    "    \"\"\"Choose names at random from 2 tuples of names and print to screen.\"\"\"\n",
    "    print(\"Welcome to the Psych 'Sidekick Name Picker.'\\n\")\n",
    "    print(\"A name just like Sean would pick for Gus:\\n\\n\")\n",
    "\n",
    "def    first(): ('Baby Oil', 'Bad News', 'Big Burps', \"Bill 'Beenie-Weenie'\",\n",
    "             \"Bob 'Stinkbug'\", 'Bowel Noises', 'Boxelder', \"Bud 'Lite' \",\n",
    "             \"Bob 'Stinkbug'\", 'Bowel Noises', 'Boxelder', \"Bud 'Lite'\",\n",
    "             'Butterbean', 'Buttermilk', 'Buttocks', 'Chad', 'Chesterfield',\n",
    "             'Chewy', 'Chigger', 'Cinnabuns', 'Cleet', 'Cornbread',\n",
    "             'Crab Meat', 'Crapps', 'Dark Skies', 'Dennis Clawhammer',\n",
    "             'Dicman', 'Elphonso', 'Fancypants', 'Figgs', 'Foncy', 'Gootsy',\n",
    "             'Greasy Jim', 'Huckleberry', 'Huggy', 'Ignatious', 'Jimbo',\n",
    "             \"Joe 'Pottin Soil'\", 'Johnny', 'Lemongrass', 'Lil Debil',\n",
    "             'Longbranch', '\"Lunch Money\"', 'Mergatroid', '\"Mr Peabody\"',\n",
    "             'Oil-Can', 'Oinks', 'Old Scratch', 'Ovaltine', 'Pennywhistle',\n",
    "             'Pitchfork Ben', 'Potato Bug', 'Pushmeet', 'Rock Candy',\n",
    "             'Schlomo', 'Scratchensniff', 'Scut', \"Sid 'The Squirts'\",\n",
    "             'Skidmark', 'Slaps', 'Snakes', 'Snoobs', 'Snorki', 'Soupcan Sam',\n",
    "             'Spitzitout', 'Squids', 'Stinky', 'Storyboard', 'Sweet Tea',\n",
    "             'TeeTee', 'Wheezy Joe', \"Winston 'Jazz Hands'\", 'Worms')\n",
    "def    last(): ('Appleyard', 'Bigmeat', 'Bloominshine', 'Boogerbottom',\n",
    "            'Breedslovetrout', 'Butterbaugh', 'Clovenhoof', 'Clutterbuck',\n",
    "            'Cocktoasten', 'Endicott', 'Fewhairs', 'Gooberdapple',\n",
    "            'Goodensmith', 'Goodpasture', 'Guster', 'Henderson', 'Hooperbag',\n",
    "            'Hoosenater', 'Hootkins', 'Jefferson', 'Jenkins',\n",
    "            'Jingley-Schmidt', 'Johnson', 'Kingfish', 'Listenbee', \"M'Bembo\",\n",
    "            'McFadden', 'Moonshine', 'Nettles', 'Noseworthy', 'Olivetti',\n",
    "            'Outerbridge', 'Overpeck', 'Overturf', 'Oxhandler', 'Pealike',\n",
    "            'Pennywhistle', 'Peterson', 'Pieplow', 'Pinkerton', 'Porkins',\n",
    "            'Putney', 'Quakenbush', 'Rainwater', 'Rosenthal', 'Rubbins',\n",
    "            'Sackrider', 'Snuggleshine', 'Splern', 'Stevens', 'Stroganoff',\n",
    "            'Sugar-Gold', 'Swackhamer', 'Tippins', 'Turnipseed', 'Vinaigrette',\n",
    "            'Walkingstick', 'Wallbanger', 'Weewax', 'Weiners', 'Whipkey',\n",
    "            'Wigglesworth', 'Wimplesnatch', 'Winterkorn', 'Woolysocks')\n",
    "while True:\n",
    "    firstName = random.choice(first)\n",
    "\n",
    "    lastName = random.choice(last)\n",
    "\n",
    "    print(\"\\n\\n\")\n",
    "    print(\"{}{}\".format(firstName, lastName), file=sys.stderr)\n",
    "    print(\"n\\n\")\n",
    "\n",
    "    try_again = input(\"n\\nTry again? Press Enter else n to quit)\\n\")\n",
    "    if try_again.lower() == \"n\":\n",
    "        break\n",
    "input(\"\\nPress Enter to exit.\")"
   ]
  },
  {
   "cell_type": "code",
   "execution_count": null,
   "id": "functioning-finnish",
   "metadata": {},
   "outputs": [],
   "source": [
    "# 1. Use sys to access the system-specific error message functionality for color in output. random lets you pick at\n",
    "# random, items from your name lists. \n",
    "\n",
    "# 2. print statements introduce the program to the user. The newline command \\n forces a new line, and single quotes\n",
    "# allow you to use quotes in the printout without having to resort to the backslash escape character. \n",
    "\n",
    "# 3. We define our tuples of names, then initiate a while loop. while = true  means keep running until we tell you to \n",
    "# stop. Use a break statement to end the loop. \n",
    "\n",
    "# 4. random.choice(first) uses random module choice method to return a random choice from the tuple chosen. \n",
    "\n",
    "# 5. trick IDLE into using red \"error\" font with file=sys.stderr to the print statement. \n",
    "\n",
    "# 6.  print(\"{}{}\".format(firstName, lastName), file=sys.stderr) is apparently string format \"method\"\n",
    "# https://docs.python.org/3.7/library/string/.html\n",
    "\n",
    "# 7. "
   ]
  },
  {
   "cell_type": "code",
   "execution_count": null,
   "id": "humanitarian-reflection",
   "metadata": {},
   "outputs": [],
   "source": [
    "# The above code did not work, even though it was all copy and pasted from the source github. \n",
    "# Below is the debuggged working code from my pseudonyms.py file \n",
    "\n",
    "# Changes made to make the code work below are as follows:\n",
    "# define tuples as \"first = (\" instead of \"def    first():\" which was gotten from their website after the initial book \n",
    "# code didn't work. "
   ]
  },
  {
   "cell_type": "code",
   "execution_count": 1,
   "id": "southwest-ownership",
   "metadata": {},
   "outputs": [
    {
     "name": "stderr",
     "output_type": "stream",
     "text": [
      "Big Burps Rubbins\n"
     ]
    },
    {
     "name": "stdout",
     "output_type": "stream",
     "text": [
      "Welcome to the Psych 'Sidekick Name Picker.'\n",
      "\n",
      "A name just like Sean would pick for Gus:\n",
      "\n",
      "\n",
      "\n",
      "\n",
      "\n",
      "\n",
      "\n",
      "\n",
      "\n",
      "\n",
      "Try again? Press Enter else n to quit)\n",
      "n\n",
      "\n",
      "Press Enter to exit.\n"
     ]
    },
    {
     "data": {
      "text/plain": [
       "''"
      ]
     },
     "execution_count": 1,
     "metadata": {},
     "output_type": "execute_result"
    }
   ],
   "source": [
    "\"\"\"Generate funny names by randomly combining names from 2 separate lists.\"\"\"\n",
    "import sys\n",
    "import random\n",
    "def main():\n",
    "    \"\"\"Choose names at random from 2 tuples of names and print to screen.\"\"\"\n",
    "\n",
    "print(\"Welcome to the Psych 'Sidekick Name Picker.'\\n\")\n",
    "print(\"A name just like Sean would pick for Gus:\\n\\n\")\n",
    "\n",
    "first = ('Baby Oil', 'Bad News', 'Big Burps', \"Bill 'Beenie-Weenie'\",\n",
    "             \"Bob 'Stinkbug'\", 'Bowel Noises', 'Boxelder', \"Bud 'Lite'\",\n",
    "             'Butterbean', 'Buttermilk', 'Buttocks', 'Chad', 'Chesterfield',\n",
    "             'Chewy', 'Chigger', 'Cinnabuns', 'Cleet', 'Cornbread',\n",
    "             'Crab Meat', 'Crapps', 'Dark Skies', 'Dennis Clawhammer',\n",
    "             'Dicman', 'Elphonso', 'Fancypants', 'Figgs', 'Foncy', 'Gootsy',\n",
    "             'Greasy Jim', 'Huckleberry', 'Huggy', 'Ignatious', 'Jimbo',\n",
    "             \"Joe 'Pottin Soil'\", 'Johnny', 'Lemongrass', 'Lil Debil',\n",
    "             'Longbranch', '\"Lunch Money\"', 'Mergatroid', '\"Mr Peabody\"',\n",
    "             'Oil-Can', 'Oinks', 'Old Scratch', 'Ovaltine', 'Pennywhistle',\n",
    "             'Pitchfork Ben', 'Potato Bug', 'Pushmeet', 'Rock Candy',\n",
    "             'Schlomo', 'Scratchensniff', 'Scut', \"Sid 'The Squirts'\",\n",
    "             'Skidmark', 'Slaps', 'Snakes', 'Snoobs', 'Snorki', 'Soupcan Sam',\n",
    "             'Spitzitout', 'Squids', 'Stinky', 'Storyboard', 'Sweet Tea',\n",
    "             'TeeTee', 'Wheezy Joe', \"Winston 'Jazz Hands'\", 'Worms')\n",
    "last = ('Appleyard', 'Bigmeat', 'Bloominshine', 'Boogerbottom',\n",
    "            'Breedslovetrout', 'Butterbaugh', 'Clovenhoof', 'Clutterbuck',\n",
    "            'Cocktoasten', 'Endicott', 'Fewhairs', 'Gooberdapple',\n",
    "            'Goodensmith', 'Goodpasture', 'Guster', 'Henderson', 'Hooperbag',\n",
    "            'Hoosenater', 'Hootkins', 'Jefferson', 'Jenkins',\n",
    "            'Jingley-Schmidt', 'Johnson', 'Kingfish', 'Listenbee', \"M'Bembo\",\n",
    "            'McFadden', 'Moonshine', 'Nettles', 'Noseworthy', 'Olivetti',\n",
    "            'Outerbridge', 'Overpeck', 'Overturf', 'Oxhandler', 'Pealike',\n",
    "            'Pennywhistle', 'Peterson', 'Pieplow', 'Pinkerton', 'Porkins',\n",
    "            'Putney', 'Quakenbush', 'Rainwater', 'Rosenthal', 'Rubbins',\n",
    "            'Sackrider', 'Snuggleshine', 'Splern', 'Stevens', 'Stroganoff',\n",
    "            'Sugar-Gold', 'Swackhamer', 'Tippins', 'Turnipseed', 'Vinaigrette',\n",
    "            'Walkingstick', 'Wallbanger', 'Weewax', 'Weiners', 'Whipkey',\n",
    "            'Wigglesworth', 'Wimplesnatch', 'Winterkorn', 'Woolysocks')\n",
    "while True:\n",
    "    firstName = random.choice(first)\n",
    "    lastName = random.choice(last)\n",
    "\n",
    "    print(\"\\n\\n\")\n",
    "    print(\"{} {}\".format(firstName, lastName), file=sys.stderr)\n",
    "    print(\"\\n\\n\")\n",
    "\n",
    "    try_again = input(\"\\n\\nTry again? Press Enter else n to quit)\\n\")\n",
    "    if try_again.lower() == \"n\":\n",
    "        break\n",
    "\n",
    "input(\"\\nPress Enter to exit.\")\n"
   ]
  },
  {
   "cell_type": "code",
   "execution_count": null,
   "id": "valued-grenada",
   "metadata": {},
   "outputs": [],
   "source": [
    "# Code works but is still not great It shows the generated name in red like it says it should in the book, \n",
    "# unlike in vs code file. However, the generated name is above instead of below the generator title. \n",
    "# I added a space between the {} for the printing of the name so that the two names would be seperated. \n"
   ]
  },
  {
   "cell_type": "code",
   "execution_count": null,
   "id": "supported-graphics",
   "metadata": {},
   "outputs": [],
   "source": []
  },
  {
   "cell_type": "code",
   "execution_count": null,
   "id": "helpful-occasion",
   "metadata": {},
   "outputs": [],
   "source": []
  }
 ],
 "metadata": {
  "kernelspec": {
   "display_name": "Python 3",
   "language": "python",
   "name": "python3"
  },
  "language_info": {
   "codemirror_mode": {
    "name": "ipython",
    "version": 3
   },
   "file_extension": ".py",
   "mimetype": "text/x-python",
   "name": "python",
   "nbconvert_exporter": "python",
   "pygments_lexer": "ipython3",
   "version": "3.8.3"
  }
 },
 "nbformat": 4,
 "nbformat_minor": 5
}
