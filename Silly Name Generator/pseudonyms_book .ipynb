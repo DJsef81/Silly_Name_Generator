{
 "cells": [
  {
   "cell_type": "code",
   "execution_count": 1,
   "id": "illegal-candle",
   "metadata": {},
   "outputs": [],
   "source": [
    "\"\"\"Generate funny names by randomly combining names from 2 separate lists.\"\"\"\n",
    "import sys\n",
    "import random"
   ]
  },
  {
   "cell_type": "code",
   "execution_count": 2,
   "id": "spanish-greece",
   "metadata": {},
   "outputs": [],
   "source": [
    "def main():\n",
    "    \"\"\"Choose names at random from 2 tuples of names and print to screen.\"\"\"\n",
    "    print(\"Welcome to the Psych 'Sidekick Name Picker.'\\n\")\n",
    "    print(\"A name just like Sean would pick for Gus:\\n\\n\")\n",
    "\n",
    "def    first(): ('Baby Oil', 'Bad News', 'Big Burps', \"Bill 'Beenie-Weenie'\",\n",
    "             \"Bob 'Stinkbug'\", 'Bowel Noises', 'Boxelder', \"Bud 'Lite' \",\n",
    "             \"Bob 'Stinkbug'\", 'Bowel Noises', 'Boxelder', \"Bud 'Lite'\",\n",
    "             'Butterbean', 'Buttermilk', 'Buttocks', 'Chad', 'Chesterfield',\n",
    "             'Chewy', 'Chigger', 'Cinnabuns', 'Cleet', 'Cornbread',\n",
    "             'Crab Meat', 'Crapps', 'Dark Skies', 'Dennis Clawhammer',\n",
    "             'Dicman', 'Elphonso', 'Fancypants', 'Figgs', 'Foncy', 'Gootsy',\n",
    "             'Greasy Jim', 'Huckleberry', 'Huggy', 'Ignatious', 'Jimbo',\n",
    "             \"Joe 'Pottin Soil'\", 'Johnny', 'Lemongrass', 'Lil Debil',\n",
    "             'Longbranch', '\"Lunch Money\"', 'Mergatroid', '\"Mr Peabody\"',\n",
    "             'Oil-Can', 'Oinks', 'Old Scratch', 'Ovaltine', 'Pennywhistle',\n",
    "             'Pitchfork Ben', 'Potato Bug', 'Pushmeet', 'Rock Candy',\n",
    "             'Schlomo', 'Scratchensniff', 'Scut', \"Sid 'The Squirts'\",\n",
    "             'Skidmark', 'Slaps', 'Snakes', 'Snoobs', 'Snorki', 'Soupcan Sam',\n",
    "             'Spitzitout', 'Squids', 'Stinky', 'Storyboard', 'Sweet Tea',\n",
    "             'TeeTee', 'Wheezy Joe', \"Winston 'Jazz Hands'\", 'Worms')\n",
    "def    last(): ('Appleyard', 'Bigmeat', 'Bloominshine', 'Boogerbottom',\n",
    "            'Breedslovetrout', 'Butterbaugh', 'Clovenhoof', 'Clutterbuck',\n",
    "            'Cocktoasten', 'Endicott', 'Fewhairs', 'Gooberdapple',\n",
    "            'Goodensmith', 'Goodpasture', 'Guster', 'Henderson', 'Hooperbag',\n",
    "            'Hoosenater', 'Hootkins', 'Jefferson', 'Jenkins',\n",
    "            'Jingley-Schmidt', 'Johnson', 'Kingfish', 'Listenbee', \"M'Bembo\",\n",
    "            'McFadden', 'Moonshine', 'Nettles', 'Noseworthy', 'Olivetti',\n",
    "            'Outerbridge', 'Overpeck', 'Overturf', 'Oxhandler', 'Pealike',\n",
    "            'Pennywhistle', 'Peterson', 'Pieplow', 'Pinkerton', 'Porkins',\n",
    "            'Putney', 'Quakenbush', 'Rainwater', 'Rosenthal', 'Rubbins',\n",
    "            'Sackrider', 'Snuggleshine', 'Splern', 'Stevens', 'Stroganoff',\n",
    "            'Sugar-Gold', 'Swackhamer', 'Tippins', 'Turnipseed', 'Vinaigrette',\n",
    "            'Walkingstick', 'Wallbanger', 'Weewax', 'Weiners', 'Whipkey',\n",
    "            'Wigglesworth', 'Wimplesnatch', 'Winterkorn', 'Woolysocks')\n"
   ]
  },
  {
   "cell_type": "code",
   "execution_count": 3,
   "id": "functioning-finnish",
   "metadata": {},
   "outputs": [
    {
     "ename": "TypeError",
     "evalue": "object of type 'function' has no len()",
     "output_type": "error",
     "traceback": [
      "\u001b[0;31m---------------------------------------------------------------------------\u001b[0m",
      "\u001b[0;31mTypeError\u001b[0m                                 Traceback (most recent call last)",
      "\u001b[0;32m<ipython-input-3-4839a5dc2c0a>\u001b[0m in \u001b[0;36m<module>\u001b[0;34m\u001b[0m\n\u001b[1;32m      1\u001b[0m \u001b[0;32mwhile\u001b[0m \u001b[0;32mTrue\u001b[0m\u001b[0;34m:\u001b[0m\u001b[0;34m\u001b[0m\u001b[0;34m\u001b[0m\u001b[0m\n\u001b[0;32m----> 2\u001b[0;31m     \u001b[0mfirstName\u001b[0m \u001b[0;34m=\u001b[0m \u001b[0mrandom\u001b[0m\u001b[0;34m.\u001b[0m\u001b[0mchoice\u001b[0m\u001b[0;34m(\u001b[0m\u001b[0mfirst\u001b[0m\u001b[0;34m)\u001b[0m\u001b[0;34m\u001b[0m\u001b[0;34m\u001b[0m\u001b[0m\n\u001b[0m\u001b[1;32m      3\u001b[0m \u001b[0;34m\u001b[0m\u001b[0m\n\u001b[1;32m      4\u001b[0m     \u001b[0mlastName\u001b[0m \u001b[0;34m=\u001b[0m \u001b[0mrandom\u001b[0m\u001b[0;34m.\u001b[0m\u001b[0mchoice\u001b[0m\u001b[0;34m(\u001b[0m\u001b[0mlast\u001b[0m\u001b[0;34m)\u001b[0m\u001b[0;34m\u001b[0m\u001b[0;34m\u001b[0m\u001b[0m\n\u001b[1;32m      5\u001b[0m \u001b[0;34m\u001b[0m\u001b[0m\n",
      "\u001b[0;32m/opt/anaconda3/lib/python3.8/random.py\u001b[0m in \u001b[0;36mchoice\u001b[0;34m(self, seq)\u001b[0m\n\u001b[1;32m    286\u001b[0m         \u001b[0;34m\"\"\"Choose a random element from a non-empty sequence.\"\"\"\u001b[0m\u001b[0;34m\u001b[0m\u001b[0;34m\u001b[0m\u001b[0m\n\u001b[1;32m    287\u001b[0m         \u001b[0;32mtry\u001b[0m\u001b[0;34m:\u001b[0m\u001b[0;34m\u001b[0m\u001b[0;34m\u001b[0m\u001b[0m\n\u001b[0;32m--> 288\u001b[0;31m             \u001b[0mi\u001b[0m \u001b[0;34m=\u001b[0m \u001b[0mself\u001b[0m\u001b[0;34m.\u001b[0m\u001b[0m_randbelow\u001b[0m\u001b[0;34m(\u001b[0m\u001b[0mlen\u001b[0m\u001b[0;34m(\u001b[0m\u001b[0mseq\u001b[0m\u001b[0;34m)\u001b[0m\u001b[0;34m)\u001b[0m\u001b[0;34m\u001b[0m\u001b[0;34m\u001b[0m\u001b[0m\n\u001b[0m\u001b[1;32m    289\u001b[0m         \u001b[0;32mexcept\u001b[0m \u001b[0mValueError\u001b[0m\u001b[0;34m:\u001b[0m\u001b[0;34m\u001b[0m\u001b[0;34m\u001b[0m\u001b[0m\n\u001b[1;32m    290\u001b[0m             \u001b[0;32mraise\u001b[0m \u001b[0mIndexError\u001b[0m\u001b[0;34m(\u001b[0m\u001b[0;34m'Cannot choose from an empty sequence'\u001b[0m\u001b[0;34m)\u001b[0m \u001b[0;32mfrom\u001b[0m \u001b[0;32mNone\u001b[0m\u001b[0;34m\u001b[0m\u001b[0;34m\u001b[0m\u001b[0m\n",
      "\u001b[0;31mTypeError\u001b[0m: object of type 'function' has no len()"
     ]
    }
   ],
   "source": [
    "while True:\n",
    "    firstName = random.choice(first)\n",
    "\n",
    "    lastName = random.choice(last)\n",
    "\n",
    "    print(\"\\n\\n\")\n",
    "    print(\"{}{}\".format(firstName, lastName), file=sys.stderr)\n",
    "    print(\"n\\n\")\n",
    "\n",
    "    try_again = input(\"n\\nTry again? Press Enter else n to quit)\\n\")\n",
    "    if try_again.lower() == \"n\":\n",
    "        break\n",
    "input(\"\\nPress Enter to exit.\")"
   ]
  },
  {
   "cell_type": "code",
   "execution_count": 4,
   "id": "humanitarian-reflection",
   "metadata": {},
   "outputs": [],
   "source": [
    "# The above code did not work, even though it was all copy and pasted from the source github. \n",
    "# Below is the debuggged working code from my pseudonyms.py file "
   ]
  },
  {
   "cell_type": "code",
   "execution_count": null,
   "id": "southwest-ownership",
   "metadata": {},
   "outputs": [
    {
     "name": "stderr",
     "output_type": "stream",
     "text": [
      "Elphonso Fewhairs\n"
     ]
    },
    {
     "name": "stdout",
     "output_type": "stream",
     "text": [
      "Welcome to the Psych 'Sidekick Name Picker.'\n",
      "\n",
      "A name just like Sean would pick for Gus:\n",
      "\n",
      "\n",
      "\n",
      "\n",
      "\n",
      "n\n",
      "n\n"
     ]
    }
   ],
   "source": [
    "\"\"\"Generate funny names by randomly combining names from 2 separate lists.\"\"\"\n",
    "import sys\n",
    "import random\n",
    "def main():\n",
    "    \"\"\"Choose names at random from 2 tuples of names and print to screen.\"\"\"\n",
    "\n",
    "print(\"Welcome to the Psych 'Sidekick Name Picker.'\\n\")\n",
    "print(\"A name just like Sean would pick for Gus:\\n\\n\")\n",
    "\n",
    "first = ('Baby Oil', 'Bad News', 'Big Burps', \"Bill 'Beenie-Weenie'\",\n",
    "             \"Bob 'Stinkbug'\", 'Bowel Noises', 'Boxelder', \"Bud 'Lite'\",\n",
    "             'Butterbean', 'Buttermilk', 'Buttocks', 'Chad', 'Chesterfield',\n",
    "             'Chewy', 'Chigger', 'Cinnabuns', 'Cleet', 'Cornbread',\n",
    "             'Crab Meat', 'Crapps', 'Dark Skies', 'Dennis Clawhammer',\n",
    "             'Dicman', 'Elphonso', 'Fancypants', 'Figgs', 'Foncy', 'Gootsy',\n",
    "             'Greasy Jim', 'Huckleberry', 'Huggy', 'Ignatious', 'Jimbo',\n",
    "             \"Joe 'Pottin Soil'\", 'Johnny', 'Lemongrass', 'Lil Debil',\n",
    "             'Longbranch', '\"Lunch Money\"', 'Mergatroid', '\"Mr Peabody\"',\n",
    "             'Oil-Can', 'Oinks', 'Old Scratch', 'Ovaltine', 'Pennywhistle',\n",
    "             'Pitchfork Ben', 'Potato Bug', 'Pushmeet', 'Rock Candy',\n",
    "             'Schlomo', 'Scratchensniff', 'Scut', \"Sid 'The Squirts'\",\n",
    "             'Skidmark', 'Slaps', 'Snakes', 'Snoobs', 'Snorki', 'Soupcan Sam',\n",
    "             'Spitzitout', 'Squids', 'Stinky', 'Storyboard', 'Sweet Tea',\n",
    "             'TeeTee', 'Wheezy Joe', \"Winston 'Jazz Hands'\", 'Worms')\n",
    "last = ('Appleyard', 'Bigmeat', 'Bloominshine', 'Boogerbottom',\n",
    "            'Breedslovetrout', 'Butterbaugh', 'Clovenhoof', 'Clutterbuck',\n",
    "            'Cocktoasten', 'Endicott', 'Fewhairs', 'Gooberdapple',\n",
    "            'Goodensmith', 'Goodpasture', 'Guster', 'Henderson', 'Hooperbag',\n",
    "            'Hoosenater', 'Hootkins', 'Jefferson', 'Jenkins',\n",
    "            'Jingley-Schmidt', 'Johnson', 'Kingfish', 'Listenbee', \"M'Bembo\",\n",
    "            'McFadden', 'Moonshine', 'Nettles', 'Noseworthy', 'Olivetti',\n",
    "            'Outerbridge', 'Overpeck', 'Overturf', 'Oxhandler', 'Pealike',\n",
    "            'Pennywhistle', 'Peterson', 'Pieplow', 'Pinkerton', 'Porkins',\n",
    "            'Putney', 'Quakenbush', 'Rainwater', 'Rosenthal', 'Rubbins',\n",
    "            'Sackrider', 'Snuggleshine', 'Splern', 'Stevens', 'Stroganoff',\n",
    "            'Sugar-Gold', 'Swackhamer', 'Tippins', 'Turnipseed', 'Vinaigrette',\n",
    "            'Walkingstick', 'Wallbanger', 'Weewax', 'Weiners', 'Whipkey',\n",
    "            'Wigglesworth', 'Wimplesnatch', 'Winterkorn', 'Woolysocks')\n",
    "while True:\n",
    "    firstName = random.choice(first)\n",
    "    lastName = random.choice(last)\n",
    "\n",
    "    print(\"\\n\\n\")\n",
    "    print(\"{} {}\".format(firstName, lastName), file=sys.stderr)\n",
    "    print(\"n\\nn\")\n",
    "\n",
    "    try_again = input(\"n\\nTry again? Press Enter else n to quit)\\n\")\n",
    "    if try_again.lower() == \"n\":\n",
    "        break\n",
    "\n",
    "input(\"\\nPress Enter to exit.\")\n"
   ]
  },
  {
   "cell_type": "code",
   "execution_count": null,
   "id": "valued-grenada",
   "metadata": {},
   "outputs": [],
   "source": [
    "# Code works but is still not great It shows the generated name in red like it says it should in the book, \n",
    "# unlike in vs code file. However, the generated name is above instead of below the generator title. \n",
    "# I added a space between the {} for the printing of the name so that the two names would be seperated. \n",
    "# Also, for some reason random n's are floating around in the output. "
   ]
  },
  {
   "cell_type": "code",
   "execution_count": null,
   "id": "cooked-twist",
   "metadata": {},
   "outputs": [],
   "source": []
  },
  {
   "cell_type": "code",
   "execution_count": null,
   "id": "suspended-asian",
   "metadata": {},
   "outputs": [],
   "source": []
  }
 ],
 "metadata": {
  "kernelspec": {
   "display_name": "Python 3",
   "language": "python",
   "name": "python3"
  },
  "language_info": {
   "codemirror_mode": {
    "name": "ipython",
    "version": 3
   },
   "file_extension": ".py",
   "mimetype": "text/x-python",
   "name": "python",
   "nbconvert_exporter": "python",
   "pygments_lexer": "ipython3",
   "version": "3.8.3"
  }
 },
 "nbformat": 4,
 "nbformat_minor": 5
}
