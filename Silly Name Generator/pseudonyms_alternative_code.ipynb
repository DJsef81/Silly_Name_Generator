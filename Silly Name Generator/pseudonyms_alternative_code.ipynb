{
 "cells": [
  {
   "cell_type": "code",
   "execution_count": null,
   "id": "czech-indiana",
   "metadata": {},
   "outputs": [],
   "source": [
    "# First code the Welcome message is where it is supposed to be, above the generated name. "
   ]
  },
  {
   "cell_type": "code",
   "execution_count": null,
   "id": "identical-amber",
   "metadata": {
    "scrolled": true
   },
   "outputs": [
    {
     "name": "stdout",
     "output_type": "stream",
     "text": [
      "Welcome to the Psych 'SideKick Name Picker.'\n",
      "A name just like Sean would pick for Gus:\n",
      "\n",
      "\n",
      "\n",
      "\n",
      "\n",
      "The generated name is Ignatious Stroganoff\n",
      "\n",
      "\n",
      "\n"
     ]
    }
   ],
   "source": [
    "import sys, random\n",
    "\n",
    "print(\"Welcome to the Psych 'SideKick Name Picker.'\")\n",
    "print(\"A name just like Sean would pick for Gus:\\n\\n\")\n",
    "\n",
    "first = ('Baby Oil', 'Bad News', 'Big Burps', \"Bill 'Beenie­Weenie'\",\n",
    "\"Bob 'Stinkbug'\", 'Bowel Noises', 'Boxelder', \"Bud 'Lite' \",\n",
    "'Butterbean', 'Buttermilk', 'Buttocks', 'Chad', 'Chesterfield',\n",
    "'Chewy', 'Chigger\", \"Cinnabuns', 'Cleet', 'Cornbread', 'Crab Meat',\n",
    "'Crapps', 'Dark Skies', 'Dennis Clawhammer', 'Dicman', 'Elphonso',\n",
    "'Fancypants', 'Figgs', 'Foncy', 'Gootsy', 'Greasy Jim', 'Huckleberry','Huggy', 'Ignatious', 'Jimbo', \"Joe 'Pottin Soil'\", 'Johnny',\n",
    "'Lemongrass', 'Lil Debil', 'Longbranch', '\"Lunch Money\"',\n",
    "'Mergatroid', '\"Mr Peabody\"', 'Oil­Can', 'Oinks', 'Old Scratch',\n",
    "'Ovaltine', 'Pennywhistle', 'Pitchfork Ben', 'Potato Bug',\n",
    "'Pushmeet','Rock Candy', 'Schlomo', 'Scratchensniff', 'Scut',\n",
    "\"Sid 'The Squirts'\", 'Skidmark', 'Slaps', 'Snakes', 'Snoobs',\n",
    "'Snorki', 'Soupcan Sam', 'Spitzitout', 'Squids', 'Stinky',\n",
    "'Storyboard', 'Sweet Tea', 'TeeTee', 'Wheezy Joe',\n",
    "\"Winston 'Jazz Hands'\", 'Worms')\n",
    "\n",
    "last = ('Appleyard', 'Bigmeat', 'Bloominshine', 'Boogerbottom',\n",
    "'Breedslovetrout', 'Butterbaugh', 'Clovenhoof', 'Clutterbuck',\n",
    "'Cocktoasten', 'Endicott', 'Fewhairs', 'Gooberdapple', 'Goodensmith',\n",
    "'Goodpasture', 'Guster', 'Henderson', 'Hooperbag', 'Hoosenater',\n",
    "'Hootkins', 'Jefferson', 'Jenkins', 'Jingley­Schmidt', 'Johnson',\n",
    "'Kingfish', 'Listenbee', \"M'Bembo\", 'McFadden', 'Moonshine', 'Nettles',\n",
    "'Noseworthy', 'Olivetti', 'Outerbridge', 'Overpeck', 'Overturf',\n",
    "'Oxhandler', 'Pealike', 'Pennywhistle', 'Peterson', 'Pieplow',\n",
    "'Pinkerton', 'Porkins', 'Putney', 'Quakenbush', 'Rainwater',\n",
    "'Rosenthal', 'Rubbins', 'Sackrider', 'Snuggleshine', 'Splern',\n",
    "'Stevens', 'Stroganoff', 'Sugar­Gold', 'Swackhamer', 'Tippins',\n",
    "'Turnipseed', 'Vinaigrette', 'Walkingstick', 'Wallbanger', 'Weewax',\n",
    "'Weiners', 'Whipkey', 'Wigglesworth', 'Wimplesnatch', 'Winterkorn',\n",
    "'Woolysocks')\n",
    "\n",
    "while True:\n",
    "    firstName = random.choice(first)\n",
    "    lastName = random.choice(last)\n",
    "    print(\"\\n\\n\")\n",
    "    print(f\"The generated name is {firstName} {lastName}\")\n",
    "    print(\"\\n\\n\")\n",
    "\n",
    "    req = input(\"\\n\\nPress Enter to Try again? (Press Enter 'n' to quit)\\n\")\n",
    "    if req.lower() == \"n\":\n",
    "        break\n",
    "\n",
    "input(\"\\nPress Enter to Exit.\")"
   ]
  },
  {
   "cell_type": "code",
   "execution_count": null,
   "id": "boolean-matthew",
   "metadata": {},
   "outputs": [],
   "source": [
    "# The second code has the added \"file=sys.stderr\" to make the generated name highlighted in red, but now the welcome\n",
    "# is below instead of above. "
   ]
  },
  {
   "cell_type": "code",
   "execution_count": null,
   "id": "published-sight",
   "metadata": {},
   "outputs": [],
   "source": [
    "import sys, random\n",
    "\n",
    "print(\"Welcome to the Psych 'SideKick Name Picker.'\")\n",
    "print(\"A name just like Sean would pick for Gus:\\n\\n\")\n",
    "\n",
    "first = ('Baby Oil', 'Bad News', 'Big Burps', \"Bill 'Beenie­Weenie'\",\n",
    "\"Bob 'Stinkbug'\", 'Bowel Noises', 'Boxelder', \"Bud 'Lite' \",\n",
    "'Butterbean', 'Buttermilk', 'Buttocks', 'Chad', 'Chesterfield',\n",
    "'Chewy', 'Chigger\", \"Cinnabuns', 'Cleet', 'Cornbread', 'Crab Meat',\n",
    "'Crapps', 'Dark Skies', 'Dennis Clawhammer', 'Dicman', 'Elphonso',\n",
    "'Fancypants', 'Figgs', 'Foncy', 'Gootsy', 'Greasy Jim', 'Huckleberry','Huggy', 'Ignatious', 'Jimbo', \"Joe 'Pottin Soil'\", 'Johnny',\n",
    "'Lemongrass', 'Lil Debil', 'Longbranch', '\"Lunch Money\"',\n",
    "'Mergatroid', '\"Mr Peabody\"', 'Oil­Can', 'Oinks', 'Old Scratch',\n",
    "'Ovaltine', 'Pennywhistle', 'Pitchfork Ben', 'Potato Bug',\n",
    "'Pushmeet','Rock Candy', 'Schlomo', 'Scratchensniff', 'Scut',\n",
    "\"Sid 'The Squirts'\", 'Skidmark', 'Slaps', 'Snakes', 'Snoobs',\n",
    "'Snorki', 'Soupcan Sam', 'Spitzitout', 'Squids', 'Stinky',\n",
    "'Storyboard', 'Sweet Tea', 'TeeTee', 'Wheezy Joe',\n",
    "\"Winston 'Jazz Hands'\", 'Worms')\n",
    "\n",
    "last = ('Appleyard', 'Bigmeat', 'Bloominshine', 'Boogerbottom',\n",
    "'Breedslovetrout', 'Butterbaugh', 'Clovenhoof', 'Clutterbuck',\n",
    "'Cocktoasten', 'Endicott', 'Fewhairs', 'Gooberdapple', 'Goodensmith',\n",
    "'Goodpasture', 'Guster', 'Henderson', 'Hooperbag', 'Hoosenater',\n",
    "'Hootkins', 'Jefferson', 'Jenkins', 'Jingley­Schmidt', 'Johnson',\n",
    "'Kingfish', 'Listenbee', \"M'Bembo\", 'McFadden', 'Moonshine', 'Nettles',\n",
    "'Noseworthy', 'Olivetti', 'Outerbridge', 'Overpeck', 'Overturf',\n",
    "'Oxhandler', 'Pealike', 'Pennywhistle', 'Peterson', 'Pieplow',\n",
    "'Pinkerton', 'Porkins', 'Putney', 'Quakenbush', 'Rainwater',\n",
    "'Rosenthal', 'Rubbins', 'Sackrider', 'Snuggleshine', 'Splern',\n",
    "'Stevens', 'Stroganoff', 'Sugar­Gold', 'Swackhamer', 'Tippins',\n",
    "'Turnipseed', 'Vinaigrette', 'Walkingstick', 'Wallbanger', 'Weewax',\n",
    "'Weiners', 'Whipkey', 'Wigglesworth', 'Wimplesnatch', 'Winterkorn',\n",
    "'Woolysocks')\n",
    "\n",
    "while True:\n",
    "    firstName = random.choice(first)\n",
    "    lastName = random.choice(last)\n",
    "    print(\"\\n\\n\")\n",
    "    print((f\"The generated name is {firstName} {lastName}\"), file=sys.stderr)\n",
    "    print(\"\\n\\n\")\n",
    "\n",
    "    req = input(\"\\n\\nPress Enter to Try again? (Press Enter 'n' to quit)\\n\")\n",
    "    if req.lower() == \"n\":\n",
    "        break\n",
    "\n",
    "input(\"\\nPress Enter to Exit.\")"
   ]
  },
  {
   "cell_type": "code",
   "execution_count": null,
   "id": "regulated-tokyo",
   "metadata": {},
   "outputs": [],
   "source": []
  }
 ],
 "metadata": {
  "kernelspec": {
   "display_name": "Python 3",
   "language": "python",
   "name": "python3"
  },
  "language_info": {
   "codemirror_mode": {
    "name": "ipython",
    "version": 3
   },
   "file_extension": ".py",
   "mimetype": "text/x-python",
   "name": "python",
   "nbconvert_exporter": "python",
   "pygments_lexer": "ipython3",
   "version": "3.8.3"
  }
 },
 "nbformat": 4,
 "nbformat_minor": 5
}
